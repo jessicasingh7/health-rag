{
 "cells": [
  {
   "cell_type": "code",
   "execution_count": 2,
   "metadata": {},
   "outputs": [],
   "source": [
    "#Sample inputs\n",
    "user_age = 25\n",
    "menstrual_phase = \"luteal\"\n",
    "workout_goal = \"lose fat and tone muscle\"\n",
    "diet = \"vegetarian\""
   ]
  },
  {
   "cell_type": "code",
   "execution_count": 3,
   "metadata": {},
   "outputs": [
    {
     "name": "stdout",
     "output_type": "stream",
     "text": [
      "Dim: 768 (768,)\n",
      "Data has 25 entities, each with fields:  dict_keys(['id', 'vector', 'text', 'subject'])\n",
      "Vector dim: 768\n"
     ]
    }
   ],
   "source": [
    "from pymilvus import model\n",
    "\n",
    "\n",
    "embedding_fn = model.DefaultEmbeddingFunction()\n",
    "\n",
    "docs = [\n",
    "    \"Follicular Phase, is the time you start feeling the buzz as your energy returns.\",\n",
    "\"Estrogen levels are the most high during follicular phase\",\n",
    "\"During follicular phase you are more likely to handle increasingly challenging workouts\",\n",
    "\"Rowing, Running, Walking (incline walks & power walks), Jumping rope, Cardio-focused, classes, Cycling/biking/spinning, Resistance Training are good exercises during your follicular phase\",\n",
    "\"Bootcamps (burpees), HIIT Circuits & tabata workouts, Indoor Cycling Classes, Track/Sprint, Workouts & Intervals, Runs, Kickboxing & Boxing, Power Yoga, Resistance Training, and Kettlebell workouts, are good exercises during your ovulation phase\",\n",
    "\"Your body is programmed to get you moving and grooving right during ovulation phase\",\n",
    "\"You are more social & you are more jazzy about everything, including exercise during ovulation.\",\n",
    "\"During ovulation as estrogen and testosterone hit their peak levels, you have got energy to churn\",\n",
    "\"During your first half of luteal phase, You might still have lots of energy coming off ovulation, so it is ok to keep your workouts challenging and maximize lean muscle gains by focusing on slow strength training.\",\n",
    "\"During first half of luteal phase out HIIT and focus on intention of your movements,not intensity.\",\n",
    "\"During second half of luteal do Pilates, Barre, Yoga, Walks, More rest days, and Stretching, and other low intensity workouts.\",\n",
    "\"As your period approaches you might be very tired. Do not be afraid to take a short nap in place of your allotted workout time.\",\n",
    "\"During your menstrual phase, do Walking, Slow yoga (it can help with cramping), Pilates, More rest days, Foam rolling, Stretching, Mobility, Naps (quick 20-minute snooze).\",\n",
    "\"Take it easy during your period, HIIT will backfire by turning on fat-storage and encourage muscle wasting.\",\n",
    "\"During your period wake up slower with a cup of tea and enjoy some gentle movement afterwards or wait until lunch or after work to get some exercise in.\",\n",
    "\"During your period it is time to focus on restorative movements, and low and slow activity.\",\n",
    "\"In your 20s you should build Strength and Endurance and your goals would be to Build muscle, improve endurance, and maintain flexibility.\",\n",
    "\"During your 30s you should focus on Maintaining Strength and Preventing Stress and you Goals would be to Maintain muscle mass, reduce stress, and increase endurance.\",\n",
    "\"In your 40s, focus on hormonal Balance and Bone Health and your Goals should be to Improve bone density, preserve muscle mass, and manage hormonal changes.\",\n",
    "\"In your 50s, focus on Staying Active and Reducing Risk of Chronic Conditions and your Goals should be to Increase cardiovascular health, improve flexibility, and reduce the risk of chronic illnesses.\",\n",
    "\"During menstruation, eat Iron-Rich Foods such as Spinach, kale, red meat, lentils, and fortified cereals, more Vitamin C to absorb iron such as oranges, strawberries, or bell peppers, Anti-Inflammatory Foods like Fatty fish (salmon, mackerel), walnuts, flaxseeds, and chia seeds., and Hydration such as Herbal teas.\",\n",
    "\"During follicular phase, eat protein rich foods like Lean meats, eggs, tofu, or legumes for cell repair, more B Vitamins such as Whole grains, eggs, and nuts to support energy production, Omega-3s like Fatty fish or walnuts to reduce inflammation, and Leafy Greens For folate.\",\n",
    "\"During ovulatory phase, eat antioxidants such as Berries, citrus fruits, and dark chocolate to combat oxidative stress, have Zinc through Pumpkin seeds, shellfish, or chickpeas to support reproductive health, and Fiber from Cruciferous vegetables (broccoli, cauliflower) to aid hormone metabolism.\",\n",
    "\"During luteal phase, have more magnesium from Dark chocolate, bananas, spinach, and almonds to ease cramps and improve mood, more Complex Carbs from Brown rice, oats, and quinoa to stabilize blood sugar and reduce cravings, increase Calcium & Vitamin D through Yogurt, fortified plant milk, or leafy greens for bone health and mood regulation, and have Herbal Teas such as Chamomile or turmeric tea to reduce bloating and promote relaxation.\",\n",
    "\"Menstrual, luteal, follicular, and ovulation phase all are a week long\"\n",
    "]\n",
    "\n",
    "vectors = embedding_fn.encode_documents(docs)\n",
    "print(\"Dim:\", embedding_fn.dim, vectors[0].shape)\n",
    "\n",
    "data = [\n",
    "    {\"id\": i, \"vector\": vectors[i], \"text\": docs[i], \"subject\": \"menstruation\"}\n",
    "    for i in range(len(vectors))\n",
    "]\n",
    "\n",
    "print(\"Data has\", len(data), \"entities, each with fields: \", data[0].keys())\n",
    "print(\"Vector dim:\", len(data[0][\"vector\"]))"
   ]
  },
  {
   "cell_type": "code",
   "execution_count": 4,
   "metadata": {},
   "outputs": [
    {
     "name": "stderr",
     "output_type": "stream",
     "text": [
      "huggingface/tokenizers: The current process just got forked, after parallelism has already been used. Disabling parallelism to avoid deadlocks...\n",
      "To disable this warning, you can either:\n",
      "\t- Avoid using `tokenizers` before the fork if possible\n",
      "\t- Explicitly set the environment variable TOKENIZERS_PARALLELISM=(true | false)\n"
     ]
    },
    {
     "name": "stdout",
     "output_type": "stream",
     "text": [
      "{'insert_count': 25, 'ids': [0, 1, 2, 3, 4, 5, 6, 7, 8, 9, 10, 11, 12, 13, 14, 15, 16, 17, 18, 19, 20, 21, 22, 23, 24]}\n"
     ]
    }
   ],
   "source": [
    "from pymilvus import MilvusClient\n",
    "\n",
    "client = MilvusClient(\"milvus_demo.db\")\n",
    "if client.has_collection(collection_name=\"demo_collection\"):\n",
    "    client.drop_collection(collection_name=\"demo_collection\")\n",
    "client.create_collection(\n",
    "    collection_name=\"demo_collection\",\n",
    "    dimension=768,\n",
    ")\n",
    "res = client.insert(collection_name=\"demo_collection\", data=data)\n",
    "\n",
    "print(res)"
   ]
  },
  {
   "cell_type": "code",
   "execution_count": 5,
   "metadata": {},
   "outputs": [],
   "source": [
    "def retrieve_top_articles(query, top_k=5):\n",
    "    client = MilvusClient(\"milvus_demo.db\")\n",
    "    query_embedding=embedding_fn.encode_queries([query])\n",
    "\n",
    "    res = client.search(\n",
    "        collection_name=\"demo_collection\",\n",
    "        data=query_embedding,\n",
    "        limit=top_k,\n",
    "        output_fields=[\"text\", \"subject\"],\n",
    "    )\n",
    "    return res"
   ]
  },
  {
   "cell_type": "code",
   "execution_count": 12,
   "metadata": {},
   "outputs": [],
   "source": [
    "import os\n",
    "from mistralai import Mistral\n",
    "from dotenv import load_dotenv\n",
    "\n",
    "key = os.getenv('MISTRAL_API_KEY')\n",
    "\n",
    "# api_key = os.environ[\"MISTRAL_API_KEY\"]\n",
    "\n",
    "def generate_text_based_on_articles(top_articles, query):\n",
    "    model = \"mistral-large-latest\"\n",
    "    client = Mistral(api_key=\"4S2tKeF1reZMQrZdwTcZ2Zq9xG6r63C7\")\n",
    "    if top_articles:\n",
    "        input_text = f\"\"\"\n",
    "        Answer the following question based on the provided articles:\n",
    "\n",
    "        Question: {query}\n",
    "\n",
    "        Articles:\n",
    "        {top_articles}\n",
    "\n",
    "        Please provide a precise and factual answer based on these articles. Avoid adding information not present in the articles.\n",
    "        \"\"\"\n",
    "    else:\n",
    "        input_text = query\n",
    "\n",
    "    response = client.chat.complete(\n",
    "        model=model,\n",
    "        messages=[\n",
    "            {\n",
    "                \"role\": \"system\",\n",
    "                \"content\": \"You are an expert assistant trained to provide factual and precise answers based on provided context.\"\n",
    "            },\n",
    "            {\n",
    "                \"role\": \"user\",\n",
    "                \"content\": input_text,\n",
    "            },\n",
    "        ]\n",
    "    )\n",
    "\n",
    "    generated_text = response.choices[0].message.content\n",
    "    return generated_text\n"
   ]
  },
  {
   "cell_type": "code",
   "execution_count": 13,
   "metadata": {},
   "outputs": [
    {
     "name": "stdout",
     "output_type": "stream",
     "text": [
      "Generated Text:\n",
      "Based on the provided articles, here's a step-by-step workout plan for a 25-year-old aiming to lose fat and tone muscle, tailored to the luteal phase of the menstrual cycle:\n",
      "\n",
      "### Luteal Phase Workout Plan\n",
      "\n",
      "#### Week 1-2 (Early Luteal Phase)\n",
      "During the first half of the luteal phase, you might still have lots of energy coming off ovulation. Therefore, it is okay to keep your workouts challenging and maximize lean muscle gains by focusing on slow strength training.\n",
      "\n",
      "**Monday:**\n",
      "- **Slow Strength Training:** Focus on compound movements like squats, deadlifts, and bench presses. Perform each exercise slowly and with control to maximize muscle engagement.\n",
      "\n",
      "**Tuesday:**\n",
      "- **Resistance Training:** Incorporate exercises like lunges, push-ups, and pull-ups. Maintain a slow and controlled pace.\n",
      "\n",
      "**Wednesday:**\n",
      "- **Power Yoga:** This will help maintain flexibility and strength while keeping the intensity high.\n",
      "\n",
      "**Thursday:**\n",
      "- **Kettlebell Workouts:** Use kettlebells for exercises like swings, snatches, and Turkish get-ups. Focus on proper form and controlled movements.\n",
      "\n",
      "**Friday:**\n",
      "- **Resistance Training:** Continue with slow strength training, focusing on different muscle groups from Monday.\n",
      "\n",
      "**Saturday:**\n",
      "- **Cardio-focused Classes:** Incorporate activities like spinning or indoor cycling to keep your heart rate up.\n",
      "\n",
      "**Sunday:**\n",
      "- **Rest Day:** Focus on recovery with light stretching and foam rolling.\n",
      "\n",
      "#### Week 3-4 (Late Luteal Phase)\n",
      "As you approach the end of the luteal phase, you might experience a decrease in energy levels. Adjust your workouts accordingly to avoid overexertion.\n",
      "\n",
      "**Monday:**\n",
      "- **Resistance Training:** Continue with slow strength training, but consider reducing the intensity slightly.\n",
      "\n",
      "**Tuesday:**\n",
      "- **Power Yoga:** Maintain a moderate pace to balance strength and flexibility.\n",
      "\n",
      "**Wednesday:**\n",
      "- **Kettlebell Workouts:** Focus on lighter weights and controlled movements.\n",
      "\n",
      "**Thursday:**\n",
      "- **Resistance Training:** Incorporate bodyweight exercises like planks, glute bridges, and wall sits.\n",
      "\n",
      "**Friday:**\n",
      "- **Cardio-focused Classes:** Opt for lower-impact activities like walking or light jogging.\n",
      "\n",
      "**Saturday:**\n",
      "- **Pilates:** Focus on core strength and stability.\n",
      "\n",
      "**Sunday:**\n",
      "- **Rest Day:** Prioritize recovery with stretching, foam rolling, and possibly a quick 20-minute nap.\n",
      "\n",
      "### Additional Tips:\n",
      "- **Hydration:** Stay well-hydrated throughout your workouts.\n",
      "- **Nutrition:** Maintain a balanced diet to support your workout goals.\n",
      "- **Listen to Your Body:** Adjust the intensity of your workouts based on how you feel each day.\n",
      "\n",
      "This plan focuses on maintaining a balance between strength training and recovery, tailored to the energy levels typical during the luteal phase.\n"
     ]
    }
   ],
   "source": [
    "query = f\"Give me a step by step workout plan based on my age: {user_age} and workout goal: {workout_goal}. Please be very explicit about catering a workout plan based on my menstrual phase: {menstrual_phase}\"\n",
    "\n",
    "top_articles = retrieve_top_articles(query)\n",
    "generated_text = generate_text_based_on_articles(top_articles, query)\n",
    "\n",
    "print(f\"Generated Text:\\n{generated_text}\")"
   ]
  },
  {
   "cell_type": "code",
   "execution_count": null,
   "metadata": {},
   "outputs": [],
   "source": []
  }
 ],
 "metadata": {
  "kernelspec": {
   "display_name": "Python 3",
   "language": "python",
   "name": "python3"
  },
  "language_info": {
   "codemirror_mode": {
    "name": "ipython",
    "version": 3
   },
   "file_extension": ".py",
   "mimetype": "text/x-python",
   "name": "python",
   "nbconvert_exporter": "python",
   "pygments_lexer": "ipython3",
   "version": "3.11.5"
  },
  "orig_nbformat": 4
 },
 "nbformat": 4,
 "nbformat_minor": 2
}
